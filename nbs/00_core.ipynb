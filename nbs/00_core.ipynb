{
 "cells": [
  {
   "cell_type": "markdown",
   "metadata": {},
   "source": [
    "# core\n",
    "\n",
    "> Fill in a module description here"
   ]
  },
  {
   "cell_type": "code",
   "execution_count": 1,
   "metadata": {},
   "outputs": [],
   "source": [
    "#| default_exp core"
   ]
  },
  {
   "cell_type": "code",
   "execution_count": 2,
   "metadata": {},
   "outputs": [],
   "source": [
    "#| hide\n",
    "from nbdev.showdoc import *"
   ]
  },
  {
   "cell_type": "code",
   "execution_count": 18,
   "metadata": {
    "lines_to_next_cell": 1
   },
   "outputs": [],
   "source": [
    "#| export\n",
    "def foo(): return 'foo'"
   ]
  },
  {
   "cell_type": "code",
   "execution_count": 10,
   "metadata": {},
   "outputs": [],
   "source": [
    "#| export\n",
    "def bar(): return 'bar'"
   ]
  },
  {
   "cell_type": "code",
   "execution_count": 11,
   "metadata": {},
   "outputs": [],
   "source": [
    "#| export\n",
    "def baz(): return 'baz'"
   ]
  },
  {
   "cell_type": "code",
   "execution_count": 6,
   "metadata": {},
   "outputs": [],
   "source": [
    "#| hide\n",
    "import nbdev; nbdev.nbdev_export()"
   ]
  },
  {
   "cell_type": "code",
   "execution_count": 33,
   "metadata": {},
   "outputs": [],
   "source": [
    "#| hide\n",
    "x = 0"
   ]
  },
  {
   "cell_type": "code",
   "execution_count": 35,
   "metadata": {},
   "outputs": [],
   "source": [
    "#| hide\n",
    "def get_x():\n",
    "    return x"
   ]
  },
  {
   "cell_type": "code",
   "execution_count": 43,
   "metadata": {},
   "outputs": [],
   "source": [
    "#| hide\n",
    "y = 2"
   ]
  },
  {
   "cell_type": "code",
   "execution_count": 44,
   "metadata": {},
   "outputs": [
    {
     "data": {
      "text/plain": [
       "2"
      ]
     },
     "execution_count": 44,
     "metadata": {},
     "output_type": "execute_result"
    }
   ],
   "source": [
    "get_x() + y"
   ]
  },
  {
   "cell_type": "code",
   "execution_count": null,
   "metadata": {},
   "outputs": [],
   "source": []
  }
 ],
 "metadata": {
  "ipyflow": {
   "cell_children": {
    "1265359a-e7ee-43b5-920a-b2fc16da59fe": [],
    "208d6576-b8b6-447e-883b-c9835de93de6": [],
    "2386ba80-f46b-41d2-873b-b118d8661aba": [],
    "246c6732-8c9f-4364-90ae-293e3717bb1d": [],
    "26111459-bf37-4b25-b6e5-06725eaec02d": [
     "2742b530-aa0a-4d1f-bbd7-c6423b3effb4"
    ],
    "2742b530-aa0a-4d1f-bbd7-c6423b3effb4": [],
    "376d77de-1b0a-43a9-9999-aee4d0a3ed07": [
     "d3ad4522-7fb5-42d9-affd-b864b25fd289"
    ],
    "405bb0df-061f-402c-a84c-4d7265f1ec6c": [],
    "425a4c1d-1f14-4d52-be0c-1a0255ca8bd0": [
     "246c6732-8c9f-4364-90ae-293e3717bb1d"
    ],
    "450e4820-55d1-4402-bbdc-fb8a9f6a822c": [],
    "4cf36ff0-3de3-489b-9633-4184a2d65f77": [],
    "52e71e60-2a93-4706-b33d-8b8871c1d4dc": [
     "246c6732-8c9f-4364-90ae-293e3717bb1d"
    ],
    "6a9255bf-81e2-4f7f-b668-bb7baf1bd7e7": [],
    "78ee4042-41ed-42a4-813b-dee7e89f1aa4": [],
    "7d1a6e84-5518-4878-8cd2-50f37a173994": [],
    "98943db7-7568-49fe-9bdd-d40504eb619f": [],
    "999dd971-9620-4219-a017-3ab4c28fcec5": [],
    "9d3715e3-adf1-4c3b-89cf-750d1000a830": [],
    "a048b7e1-5a06-4d05-a61c-86178096e10b": [
     "2386ba80-f46b-41d2-873b-b118d8661aba"
    ],
    "aa4c4a6e-52bc-477d-a280-f5e124951082": [],
    "ac1d437f-214b-466c-b54f-1830b7847ea2": [],
    "b11f3bfe-c463-47af-ae19-8bebe1d2ef3b": [],
    "b17bb7e5-2b89-48e6-a84a-9f2b5a8321de": [],
    "c4300dea-96ed-4972-9628-239e5185f355": [],
    "ce1dfc08-aa0e-4728-8bc4-ac1cfd4267b8": [
     "246c6732-8c9f-4364-90ae-293e3717bb1d"
    ],
    "d3ad4522-7fb5-42d9-affd-b864b25fd289": [],
    "d79adb2a-da0c-4c4d-bd6b-ecd2163f9705": [],
    "e7772584-12e3-4279-8891-5958aafb01c9": [],
    "eaf9e822-ca19-439a-b19f-67329fd63993": [],
    "fdc59429-5e54-4ac0-a66a-3d23f43e66c5": []
   },
   "cell_parents": {
    "1265359a-e7ee-43b5-920a-b2fc16da59fe": [],
    "208d6576-b8b6-447e-883b-c9835de93de6": [],
    "2386ba80-f46b-41d2-873b-b118d8661aba": [
     "a048b7e1-5a06-4d05-a61c-86178096e10b"
    ],
    "246c6732-8c9f-4364-90ae-293e3717bb1d": [
     "ce1dfc08-aa0e-4728-8bc4-ac1cfd4267b8",
     "52e71e60-2a93-4706-b33d-8b8871c1d4dc",
     "425a4c1d-1f14-4d52-be0c-1a0255ca8bd0"
    ],
    "26111459-bf37-4b25-b6e5-06725eaec02d": [
     "fdc59429-5e54-4ac0-a66a-3d23f43e66c5"
    ],
    "2742b530-aa0a-4d1f-bbd7-c6423b3effb4": [
     "26111459-bf37-4b25-b6e5-06725eaec02d"
    ],
    "376d77de-1b0a-43a9-9999-aee4d0a3ed07": [],
    "405bb0df-061f-402c-a84c-4d7265f1ec6c": [],
    "425a4c1d-1f14-4d52-be0c-1a0255ca8bd0": [],
    "450e4820-55d1-4402-bbdc-fb8a9f6a822c": [],
    "4cf36ff0-3de3-489b-9633-4184a2d65f77": [],
    "52e71e60-2a93-4706-b33d-8b8871c1d4dc": [],
    "6a9255bf-81e2-4f7f-b668-bb7baf1bd7e7": [],
    "78ee4042-41ed-42a4-813b-dee7e89f1aa4": [],
    "7d1a6e84-5518-4878-8cd2-50f37a173994": [],
    "98943db7-7568-49fe-9bdd-d40504eb619f": [],
    "999dd971-9620-4219-a017-3ab4c28fcec5": [],
    "9d3715e3-adf1-4c3b-89cf-750d1000a830": [],
    "a048b7e1-5a06-4d05-a61c-86178096e10b": [
     "1265359a-e7ee-43b5-920a-b2fc16da59fe"
    ],
    "aa4c4a6e-52bc-477d-a280-f5e124951082": [],
    "ac1d437f-214b-466c-b54f-1830b7847ea2": [],
    "b11f3bfe-c463-47af-ae19-8bebe1d2ef3b": [],
    "b17bb7e5-2b89-48e6-a84a-9f2b5a8321de": [],
    "c4300dea-96ed-4972-9628-239e5185f355": [],
    "ce1dfc08-aa0e-4728-8bc4-ac1cfd4267b8": [],
    "d3ad4522-7fb5-42d9-affd-b864b25fd289": [
     "376d77de-1b0a-43a9-9999-aee4d0a3ed07"
    ],
    "d79adb2a-da0c-4c4d-bd6b-ecd2163f9705": [],
    "e7772584-12e3-4279-8891-5958aafb01c9": [],
    "eaf9e822-ca19-439a-b19f-67329fd63993": [],
    "fdc59429-5e54-4ac0-a66a-3d23f43e66c5": []
   }
  },
  "kernelspec": {
   "display_name": "Python 3 (ipyflow)",
   "language": "python",
   "name": "ipyflow"
  },
  "language_info": {
   "codemirror_mode": {
    "name": "ipython",
    "version": 3
   },
   "file_extension": ".py",
   "mimetype": "text/x-python",
   "name": "python",
   "nbconvert_exporter": "python",
   "pygments_lexer": "ipython3",
   "version": "3.10.16"
  }
 },
 "nbformat": 4,
 "nbformat_minor": 4
}
